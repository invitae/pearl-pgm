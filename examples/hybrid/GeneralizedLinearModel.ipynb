{
 "cells": [
  {
   "cell_type": "markdown",
   "metadata": {},
   "source": [
    "# Generalized Linear Model"
   ]
  },
  {
   "cell_type": "code",
   "execution_count": 1,
   "metadata": {},
   "outputs": [],
   "source": [
    "from pearl.bayesnet import from_yaml\n",
    "from pearl.data import VariableData, BayesianNetworkDataset\n",
    "from pearl.common import NodeValueType\n",
    "\n",
    "import torch\n",
    "\n",
    "import matplotlib.pyplot as plt\n",
    "\n",
    "from pyro.optim import Adam\n",
    "\n",
    "import graphviz"
   ]
  },
  {
   "cell_type": "markdown",
   "metadata": {},
   "source": [
    "In this notebook we define and train a simple generalized linea model. Let us consider a model with 5 variables. The dependent variable 'E' has discrete parents 'A', 'B' and continuous parents 'C', 'D'. For each combination of discrete parents, 'E' is sampled from a categorical distribution (with 2 categories) obtained by applying a softmax function to linear combinations of the continuous parents 'C', 'D'. The exact data generating mechanism is shown below."
   ]
  },
  {
   "cell_type": "code",
   "execution_count": 2,
   "metadata": {},
   "outputs": [],
   "source": [
    "N = 5000\n",
    "\n",
    "# 'A' and 'B' are sampled from categorical distributions\n",
    "# 'C' and 'D' are sampled from Normal distributions\n",
    "a = torch.distributions.Categorical(torch.tensor([0.3, 0.7])).sample((N,)).float()\n",
    "b = torch.distributions.Categorical(torch.tensor([0.6, 0.4])).sample((N,)).float()\n",
    "c = torch.distributions.Normal(0., 1.).sample((N,)).float()\n",
    "d = torch.distributions.Normal(3, 1.).sample((N,)).float()\n",
    "\n",
    "parents_stack = torch.stack([c,d], dim=-1).unsqueeze(-1).expand(-1, -1, 2)\n",
    "\n",
    "mask1 = torch.eq(a, 0.) & torch.eq(b, 0.)\n",
    "mask2 = torch.eq(a, 0.) & torch.eq(b, 1.)\n",
    "mask3 = torch.eq(a, 1.) & torch.eq(b, 0.)\n",
    "mask4 = torch.eq(a, 1.) & torch.eq(b, 1.)\n",
    "\n",
    "# 'E' is sampled using a generalized linear model.\n",
    "# For each combination of values of 'A' and 'B', we use a softmax function applied to two linear functions of 'C' and 'D' to generate a categorical distribution.\n",
    "# 'E' is finally sampled from this categorical distribution.\n",
    "e = torch.empty((N,))\n",
    "bias = torch.tensor([\n",
    "    [\n",
    "        [\n",
    "            [0.0, 0.0]\n",
    "        ],\n",
    "        [\n",
    "            [0.0, 0.0]\n",
    "        ]\n",
    "    ],\n",
    "    [\n",
    "        [\n",
    "            [0.0, 0.0]\n",
    "        ],\n",
    "        [\n",
    "            [0.0, 0.0]\n",
    "        ]\n",
    "    ],\n",
    "])\n",
    "weights = torch.tensor(\n",
    "    [\n",
    "        [\n",
    "            [\n",
    "                [1.0, 1.25],\n",
    "                [1.0, 1.50],\n",
    "            ],\n",
    "            [\n",
    "                [1.0, 1.75],\n",
    "                [1.0, 2.00],\n",
    "            ],\n",
    "        ],\n",
    "        [\n",
    "            [\n",
    "                [2.00, 1.0],\n",
    "                [1.75, 1.0],\n",
    "            ],\n",
    "            [\n",
    "                [1.50, 1.0],\n",
    "                [1.25, 1.0],\n",
    "            ]\n",
    "        ],\n",
    "    ],\n",
    ")\n",
    "\n",
    "e[mask1] = torch.distributions.Categorical(\n",
    "    torch.softmax(\n",
    "        torch.sum(parents_stack * weights[0][0], dim=-2) + bias[0][0], \n",
    "        dim=-1\n",
    "    )\n",
    ").sample().float()[mask1]\n",
    "e[mask2] = torch.distributions.Categorical(\n",
    "    torch.softmax(\n",
    "        torch.sum(parents_stack * weights[0][1], dim=-2) + bias[0][1], \n",
    "        dim=-1\n",
    "    )\n",
    ").sample().float()[mask2]\n",
    "e[mask3] = torch.distributions.Categorical(\n",
    "    torch.softmax(\n",
    "        torch.sum(parents_stack * weights[1][0], dim=-2) + bias[1][0], \n",
    "        dim=-1\n",
    "    )\n",
    ").sample().float()[mask3]\n",
    "e[mask4] = torch.distributions.Categorical(\n",
    "    torch.softmax(\n",
    "        torch.sum(parents_stack * weights[1][1], dim=-2) + bias[1][1], \n",
    "        dim=-1\n",
    "    )\n",
    ").sample().float()[mask4]"
   ]
  },
  {
   "cell_type": "code",
   "execution_count": 3,
   "metadata": {},
   "outputs": [],
   "source": [
    "assert a.shape == b.shape == c.shape == d.shape == e.shape == (N,)"
   ]
  },
  {
   "cell_type": "markdown",
   "metadata": {},
   "source": [
    "## Declarative model specification"
   ]
  },
  {
   "cell_type": "markdown",
   "metadata": {},
   "source": [
    "The declarative specification the model and the graph structure are shown below."
   ]
  },
  {
   "cell_type": "code",
   "execution_count": 4,
   "metadata": {},
   "outputs": [
    {
     "name": "stdout",
     "output_type": "stream",
     "text": [
      "device:\r\n",
      "  index: 0\r\n",
      "  type: cpu\r\n",
      "encodingVersion: v1.0\r\n",
      "name: glmodel\r\n",
      "plates: {}\r\n",
      "nodes:\r\n",
      "  A:\r\n",
      "    type: CategoricalNodeWithDirichletPrior\r\n",
      "    domain: ['a', 'b']\r\n",
      "    parents: []\r\n",
      "    plates: []\r\n",
      "  B:\r\n",
      "    type: CategoricalNodeWithDirichletPrior\r\n",
      "    domain: ['a', 'b']\r\n",
      "    parents: []\r\n",
      "    plates: []\r\n",
      "  C:\r\n",
      "    type: ContinuousNodeWithNormalDistribution\r\n",
      "    parents: []\r\n",
      "    plates: []\r\n",
      "  D:\r\n",
      "    type: ContinuousNodeWithNormalDistribution\r\n",
      "    parents: []\r\n",
      "    plates: []\r\n",
      "  E:\r\n",
      "    type: GeneralizedLinearNode\r\n",
      "    domain: ['a', 'b']\r\n",
      "    parents: ['A', 'B', 'C', 'D']\r\n",
      "    plates: []\r\n"
     ]
    }
   ],
   "source": [
    "! cat glmodel.yaml"
   ]
  },
  {
   "cell_type": "code",
   "execution_count": 5,
   "metadata": {},
   "outputs": [],
   "source": [
    "model = from_yaml('glmodel.yaml')\n",
    "model.write_dot('glmodel.dot')"
   ]
  },
  {
   "cell_type": "code",
   "execution_count": 6,
   "metadata": {},
   "outputs": [
    {
     "data": {
      "image/svg+xml": [
       "<?xml version=\"1.0\" encoding=\"UTF-8\" standalone=\"no\"?>\n",
       "<!DOCTYPE svg PUBLIC \"-//W3C//DTD SVG 1.1//EN\"\n",
       " \"http://www.w3.org/Graphics/SVG/1.1/DTD/svg11.dtd\">\n",
       "<!-- Generated by graphviz version 2.44.1 (20200629.0846)\n",
       " -->\n",
       "<!-- Title: glmodel Pages: 1 -->\n",
       "<svg width=\"278pt\" height=\"116pt\"\n",
       " viewBox=\"0.00 0.00 278.00 116.00\" xmlns=\"http://www.w3.org/2000/svg\" xmlns:xlink=\"http://www.w3.org/1999/xlink\">\n",
       "<g id=\"graph0\" class=\"graph\" transform=\"scale(1 1) rotate(0) translate(4 112)\">\n",
       "<title>glmodel</title>\n",
       "<polygon fill=\"white\" stroke=\"transparent\" points=\"-4,4 -4,-112 274,-112 274,4 -4,4\"/>\n",
       "<!-- D -->\n",
       "<g id=\"node1\" class=\"node\">\n",
       "<title>D</title>\n",
       "<ellipse fill=\"none\" stroke=\"black\" cx=\"27\" cy=\"-90\" rx=\"27\" ry=\"18\"/>\n",
       "<text text-anchor=\"middle\" x=\"27\" y=\"-86.3\" font-family=\"Times,serif\" font-size=\"14.00\">D</text>\n",
       "</g>\n",
       "<!-- E -->\n",
       "<g id=\"node5\" class=\"node\">\n",
       "<title>E</title>\n",
       "<ellipse fill=\"none\" stroke=\"black\" cx=\"135\" cy=\"-18\" rx=\"27\" ry=\"18\"/>\n",
       "<text text-anchor=\"middle\" x=\"135\" y=\"-14.3\" font-family=\"Times,serif\" font-size=\"14.00\">E</text>\n",
       "</g>\n",
       "<!-- D&#45;&gt;E -->\n",
       "<g id=\"edge1\" class=\"edge\">\n",
       "<title>D&#45;&gt;E</title>\n",
       "<path fill=\"none\" stroke=\"black\" d=\"M45.81,-76.81C63,-65.67 88.62,-49.06 107.99,-36.5\"/>\n",
       "<polygon fill=\"black\" stroke=\"black\" points=\"109.92,-39.43 116.4,-31.05 106.11,-33.56 109.92,-39.43\"/>\n",
       "</g>\n",
       "<!-- C -->\n",
       "<g id=\"node2\" class=\"node\">\n",
       "<title>C</title>\n",
       "<ellipse fill=\"none\" stroke=\"black\" cx=\"99\" cy=\"-90\" rx=\"27\" ry=\"18\"/>\n",
       "<text text-anchor=\"middle\" x=\"99\" y=\"-86.3\" font-family=\"Times,serif\" font-size=\"14.00\">C</text>\n",
       "</g>\n",
       "<!-- C&#45;&gt;E -->\n",
       "<g id=\"edge2\" class=\"edge\">\n",
       "<title>C&#45;&gt;E</title>\n",
       "<path fill=\"none\" stroke=\"black\" d=\"M107.35,-72.76C111.71,-64.28 117.15,-53.71 122.04,-44.2\"/>\n",
       "<polygon fill=\"black\" stroke=\"black\" points=\"125.23,-45.64 126.7,-35.15 119.01,-42.44 125.23,-45.64\"/>\n",
       "</g>\n",
       "<!-- B -->\n",
       "<g id=\"node3\" class=\"node\">\n",
       "<title>B</title>\n",
       "<ellipse fill=\"none\" stroke=\"black\" cx=\"171\" cy=\"-90\" rx=\"27\" ry=\"18\"/>\n",
       "<text text-anchor=\"middle\" x=\"171\" y=\"-86.3\" font-family=\"Times,serif\" font-size=\"14.00\">B</text>\n",
       "</g>\n",
       "<!-- B&#45;&gt;E -->\n",
       "<g id=\"edge3\" class=\"edge\">\n",
       "<title>B&#45;&gt;E</title>\n",
       "<path fill=\"none\" stroke=\"black\" d=\"M162.65,-72.76C158.29,-64.28 152.85,-53.71 147.96,-44.2\"/>\n",
       "<polygon fill=\"black\" stroke=\"black\" points=\"150.99,-42.44 143.3,-35.15 144.77,-45.64 150.99,-42.44\"/>\n",
       "</g>\n",
       "<!-- A -->\n",
       "<g id=\"node4\" class=\"node\">\n",
       "<title>A</title>\n",
       "<ellipse fill=\"none\" stroke=\"black\" cx=\"243\" cy=\"-90\" rx=\"27\" ry=\"18\"/>\n",
       "<text text-anchor=\"middle\" x=\"243\" y=\"-86.3\" font-family=\"Times,serif\" font-size=\"14.00\">A</text>\n",
       "</g>\n",
       "<!-- A&#45;&gt;E -->\n",
       "<g id=\"edge4\" class=\"edge\">\n",
       "<title>A&#45;&gt;E</title>\n",
       "<path fill=\"none\" stroke=\"black\" d=\"M224.19,-76.81C207,-65.67 181.38,-49.06 162.01,-36.5\"/>\n",
       "<polygon fill=\"black\" stroke=\"black\" points=\"163.89,-33.56 153.6,-31.05 160.08,-39.43 163.89,-33.56\"/>\n",
       "</g>\n",
       "</g>\n",
       "</svg>\n"
      ],
      "text/plain": [
       "<graphviz.files.Source at 0x14418bc40>"
      ]
     },
     "execution_count": 6,
     "metadata": {},
     "output_type": "execute_result"
    }
   ],
   "source": [
    "graphviz.Source.from_file('glmodel.dot')"
   ]
  },
  {
   "cell_type": "markdown",
   "metadata": {},
   "source": [
    "## Model training"
   ]
  },
  {
   "cell_type": "markdown",
   "metadata": {},
   "source": [
    "We will now train the model defined using pearl on the generated data and see how well it recovers the parameters of the generalized linear model. First we need to package the tensors as a `BayesianNetworkDataset` and divide it into train/test split."
   ]
  },
  {
   "cell_type": "code",
   "execution_count": 7,
   "metadata": {},
   "outputs": [],
   "source": [
    "variable_dict = {\n",
    "    'A': VariableData(\n",
    "        NodeValueType.CATEGORICAL,\n",
    "        a,\n",
    "        ['a', 'b'],\n",
    "    ),\n",
    "    'B': VariableData(\n",
    "        NodeValueType.CATEGORICAL,\n",
    "        b,\n",
    "        ['a', 'b'],\n",
    "    ),\n",
    "    'C': VariableData(\n",
    "        NodeValueType.CONTINUOUS,\n",
    "        c,\n",
    "    ),\n",
    "    'D': VariableData(\n",
    "        NodeValueType.CONTINUOUS,\n",
    "        d,\n",
    "    ),\n",
    "    'E': VariableData(\n",
    "        NodeValueType.CATEGORICAL,\n",
    "        e,\n",
    "        ['a', 'b'],\n",
    "    )\n",
    "}\n",
    "dataset = BayesianNetworkDataset(variable_dict)"
   ]
  },
  {
   "cell_type": "code",
   "execution_count": 8,
   "metadata": {},
   "outputs": [],
   "source": [
    "train_dataset, test_dataset = dataset.split((4000, 1000))"
   ]
  },
  {
   "cell_type": "markdown",
   "metadata": {},
   "source": [
    "Next we will train the model using SVI to optimize the parameters."
   ]
  },
  {
   "cell_type": "code",
   "execution_count": 9,
   "metadata": {},
   "outputs": [],
   "source": [
    "adam = Adam({'lr': 0.005, 'betas': (0.95, 0.995)})"
   ]
  },
  {
   "cell_type": "code",
   "execution_count": 10,
   "metadata": {},
   "outputs": [
    {
     "name": "stderr",
     "output_type": "stream",
     "text": [
      " 10%|▉         | 997/10000 [00:14<02:12, 67.89it/s]svi_step: 1000\n",
      "elbo: 18502.301599681377\n",
      " 20%|█▉        | 1999/10000 [00:29<01:57, 68.36it/s]svi_step: 2000\n",
      "elbo: 18481.76528418064\n",
      " 30%|██▉       | 2996/10000 [00:44<01:40, 69.37it/s]svi_step: 3000\n",
      "elbo: 18248.345020353794\n",
      " 40%|███▉      | 3999/10000 [00:58<01:36, 62.00it/s]svi_step: 4000\n",
      "elbo: 18257.90289145708\n",
      " 50%|████▉     | 4998/10000 [01:13<01:13, 68.49it/s]svi_step: 5000\n",
      "elbo: 18284.167265236378\n",
      " 60%|█████▉    | 5998/10000 [01:28<00:59, 67.00it/s]svi_step: 6000\n",
      "elbo: 18270.44609349966\n",
      " 70%|██████▉   | 6994/10000 [01:42<00:43, 69.36it/s]svi_step: 7000\n",
      "elbo: 18235.830620646477\n",
      " 80%|███████▉  | 7997/10000 [01:57<00:29, 68.75it/s]svi_step: 8000\n",
      "elbo: 18241.27462619543\n",
      " 90%|████████▉ | 8992/10000 [02:11<00:14, 69.53it/s]svi_step: 9000\n",
      "elbo: 18224.82104128599\n",
      "100%|█████████▉| 9994/10000 [02:26<00:00, 69.68it/s]svi_step: 10000\n",
      "elbo: 18239.26932001114\n",
      "100%|██████████| 10000/10000 [02:26<00:00, 68.31it/s]\n",
      "training time: 146.40990614891052\n"
     ]
    }
   ],
   "source": [
    "losses=model.train(\n",
    "    dataset=train_dataset,\n",
    "    optimizer=adam,\n",
    "    num_steps=10000,\n",
    ")"
   ]
  },
  {
   "cell_type": "code",
   "execution_count": 11,
   "metadata": {},
   "outputs": [
    {
     "data": {
      "text/plain": [
       "[<matplotlib.lines.Line2D at 0x14467cbe0>]"
      ]
     },
     "execution_count": 11,
     "metadata": {},
     "output_type": "execute_result"
    },
    {
     "data": {
      "image/png": "[encoded data removed]",
      "text/plain": [
       "<Figure size 432x288 with 1 Axes>"
      ]
     },
     "metadata": {
      "needs_background": "light"
     },
     "output_type": "display_data"
    }
   ],
   "source": [
    "plt.plot(losses)"
   ]
  },
  {
   "cell_type": "markdown",
   "metadata": {},
   "source": [
    "## Examine parameters"
   ]
  },
  {
   "cell_type": "code",
   "execution_count": 12,
   "metadata": {},
   "outputs": [
    {
     "name": "stdout",
     "output_type": "stream",
     "text": [
      "tensor([0.2872, 0.7128], grad_fn=<DivBackward0>)\n"
     ]
    }
   ],
   "source": [
    "# CPD over A is Cat(0.3, 0.7 )\n",
    "alphas = model.get_node_object('A').guide_alpha\n",
    "print(alphas / torch.sum(alphas, dim=-1, keepdim=True))"
   ]
  },
  {
   "cell_type": "code",
   "execution_count": 13,
   "metadata": {},
   "outputs": [
    {
     "name": "stdout",
     "output_type": "stream",
     "text": [
      "tensor([0.5991, 0.4009], grad_fn=<DivBackward0>)\n"
     ]
    }
   ],
   "source": [
    "# CPD over B is Cat(0.6, 0.4 )\n",
    "alphas = model.get_node_object('B').guide_alpha\n",
    "print(alphas / torch.sum(alphas, dim=-1, keepdim=True))"
   ]
  },
  {
   "cell_type": "code",
   "execution_count": 14,
   "metadata": {},
   "outputs": [
    {
     "name": "stdout",
     "output_type": "stream",
     "text": [
      "tensor(0.0073, requires_grad=True)\n",
      "tensor(1.0071, grad_fn=<AddBackward0>)\n"
     ]
    }
   ],
   "source": [
    "# CPD over C is N(0., 1.)\n",
    "node_object = model.get_node_object('C')\n",
    "mean = node_object.guide_mean_mean\n",
    "scale = node_object.guide_scale\n",
    "print(mean)\n",
    "print(scale)"
   ]
  },
  {
   "cell_type": "code",
   "execution_count": 15,
   "metadata": {},
   "outputs": [
    {
     "name": "stdout",
     "output_type": "stream",
     "text": [
      "tensor(3.0096, requires_grad=True)\n",
      "tensor(0.9974, grad_fn=<AddBackward0>)\n"
     ]
    }
   ],
   "source": [
    "# CPD over C is N(3., 1.)\n",
    "node_object = model.get_node_object('D')\n",
    "mean = node_object.guide_mean_mean\n",
    "scale = node_object.guide_scale\n",
    "print(mean)\n",
    "print(scale)"
   ]
  },
  {
   "cell_type": "code",
   "execution_count": 16,
   "metadata": {},
   "outputs": [
    {
     "name": "stdout",
     "output_type": "stream",
     "text": [
      "tensor([[[-0.1524,  0.1524],\n",
      "         [ 0.4244, -0.4244]],\n",
      "\n",
      "        [[ 0.1649, -0.1648],\n",
      "         [ 0.0865, -0.0865]]], requires_grad=True)\n",
      "tensor([[[[-0.1215,  0.1215],\n",
      "          [-0.2178,  0.2178]],\n",
      "\n",
      "         [[-0.4403,  0.4403],\n",
      "          [-0.7369,  0.7369]]],\n",
      "\n",
      "\n",
      "        [[[ 0.5110, -0.5110],\n",
      "          [ 0.3410, -0.3410]],\n",
      "\n",
      "         [[ 0.2721, -0.2721],\n",
      "          [ 0.1013, -0.1013]]]], requires_grad=True)\n"
     ]
    }
   ],
   "source": [
    "# CPD over E\n",
    "node_object = model.get_node_object('E')\n",
    "node_weights = node_object.guide_weights_mean\n",
    "node_bias = node_object.guide_bias_mean\n",
    "print(node_bias)\n",
    "print(node_weights)"
   ]
  },
  {
   "cell_type": "markdown",
   "metadata": {},
   "source": [
    "The bias vector is close to zero since we did not use any bias term in the data generating mechanism for 'E'. While the exact weights may not be identical, its important that they induce the same categorical distribution through the softmax function. We verify that by computing the softmax of the two weight tensors."
   ]
  },
  {
   "cell_type": "code",
   "execution_count": 17,
   "metadata": {},
   "outputs": [
    {
     "name": "stdout",
     "output_type": "stream",
     "text": [
      "tensor([[[0.3208, 0.6792],\n",
      "         [0.1480, 0.8520]],\n",
      "\n",
      "        [[0.8520, 0.1480],\n",
      "         [0.6792, 0.3208]]])\n",
      "tensor([[[0.2722, 0.7278],\n",
      "         [0.1816, 0.8184]],\n",
      "\n",
      "        [[0.8843, 0.1157],\n",
      "         [0.7150, 0.2850]]], grad_fn=<SoftmaxBackward>)\n"
     ]
    }
   ],
   "source": [
    "print(torch.softmax(torch.sum(weights, dim=-2), dim=-1))\n",
    "print(torch.softmax(torch.sum(node_weights, dim=-2) + node_bias, dim=-1))"
   ]
  },
  {
   "cell_type": "markdown",
   "metadata": {},
   "source": [
    "## Predictions"
   ]
  },
  {
   "cell_type": "markdown",
   "metadata": {},
   "source": [
    "We can use the trained model to answer various probabilistic queries. The standard query is to predict 'E' conditioned on the remaining variables."
   ]
  },
  {
   "cell_type": "code",
   "execution_count": 18,
   "metadata": {},
   "outputs": [
    {
     "name": "stdout",
     "output_type": "stream",
     "text": [
      "accuracy is 0.826\n"
     ]
    }
   ],
   "source": [
    "_, map_assignments, _ = model.predict(\n",
    "    dataset=test_dataset,\n",
    "    target_variables=['E'],\n",
    ")\n",
    "\n",
    "acc = float(torch.eq(test_dataset['E'], map_assignments['E']).sum())\n",
    "print(f'accuracy is {acc / len(test_dataset)}')"
   ]
  },
  {
   "cell_type": "code",
   "execution_count": null,
   "metadata": {},
   "outputs": [],
   "source": []
  }
 ],
 "metadata": {
  "kernelspec": {
   "display_name": "Python 3",
   "language": "python",
   "name": "python3"
  },
  "language_info": {
   "codemirror_mode": {
    "name": "ipython",
    "version": 3
   },
   "file_extension": ".py",
   "mimetype": "text/x-python",
   "name": "python",
   "nbconvert_exporter": "python",
   "pygments_lexer": "ipython3",
   "version": "3.8.7"
  }
 },
 "nbformat": 4,
 "nbformat_minor": 4
}
