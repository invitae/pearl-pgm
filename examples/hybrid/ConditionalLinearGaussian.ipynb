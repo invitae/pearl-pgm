{
 "cells": [
  {
   "cell_type": "markdown",
   "metadata": {},
   "source": [
    "# Conditional Linear Gaussian Model"
   ]
  },
  {
   "cell_type": "code",
   "execution_count": 1,
   "metadata": {},
   "outputs": [],
   "source": [
    "import pandas as pd\n",
    "\n",
    "from pearl.bayesnet import BayesianNetwork, from_yaml\n",
    "from pearl.data import BayesianNetworkDataset, VariableData\n",
    "from pearl.common import NodeValueType\n",
    "\n",
    "import torch\n",
    "\n",
    "import matplotlib.pyplot as plt\n",
    "\n",
    "from pyro.optim import Adam\n",
    "\n",
    "import graphviz"
   ]
  },
  {
   "cell_type": "markdown",
   "metadata": {},
   "source": [
    "This notebook demonstrates the use of `pearl` to construct conditional linear gaussian BNs. A conditional linear gaussian Bayesian Network is the one where parents of discrete nodes are all discrete and continuous nodes use a conditional linear gaussian CPD. \n",
    "\n",
    "A conditional linear gaussign CPD defines a Normal distribution for each combination of discrete parents with a mean that is a linear combination of continuous parents and an independent variance.\n",
    "\n",
    "We will use an example from the [bnlearn](https://www.bnlearn.com/bnrepository/) repository. Specifically we will use the [clgaussian.test](https://www.bnlearn.com/documentation/networks/index.html#clgaussian) hybrid network. This small graphical model has 8 random variables and the CPDs are a mix of discrete and conditional linear gaussians distributions. The dataset to test parameter learning is obtained from the bnlearn R package. It contains 5000 examples."
   ]
  },
  {
   "cell_type": "markdown",
   "metadata": {},
   "source": [
    "## Data pre-processing"
   ]
  },
  {
   "cell_type": "markdown",
   "metadata": {},
   "source": [
    "First we will process the csv file and create a `BayesianNetworkDataset` and a train/test split."
   ]
  },
  {
   "cell_type": "code",
   "execution_count": 2,
   "metadata": {},
   "outputs": [
    {
     "name": "stdout",
     "output_type": "stream",
     "text": [
      "length of the dataset: 5000\n"
     ]
    },
    {
     "data": {
      "text/html": [
       "<div>\n",
       "<style scoped>\n",
       "    .dataframe tbody tr th:only-of-type {\n",
       "        vertical-align: middle;\n",
       "    }\n",
       "\n",
       "    .dataframe tbody tr th {\n",
       "        vertical-align: top;\n",
       "    }\n",
       "\n",
       "    .dataframe thead th {\n",
       "        text-align: right;\n",
       "    }\n",
       "</style>\n",
       "<table border=\"1\" class=\"dataframe\">\n",
       "  <thead>\n",
       "    <tr style=\"text-align: right;\">\n",
       "      <th></th>\n",
       "      <th>Unnamed: 0</th>\n",
       "      <th>A</th>\n",
       "      <th>B</th>\n",
       "      <th>C</th>\n",
       "      <th>D</th>\n",
       "      <th>E</th>\n",
       "      <th>F</th>\n",
       "      <th>G</th>\n",
       "      <th>H</th>\n",
       "    </tr>\n",
       "  </thead>\n",
       "  <tbody>\n",
       "    <tr>\n",
       "      <th>0</th>\n",
       "      <td>1</td>\n",
       "      <td>a</td>\n",
       "      <td>b</td>\n",
       "      <td>d</td>\n",
       "      <td>6.460721</td>\n",
       "      <td>11.986566</td>\n",
       "      <td>b</td>\n",
       "      <td>34.842461</td>\n",
       "      <td>2.334846</td>\n",
       "    </tr>\n",
       "    <tr>\n",
       "      <th>1</th>\n",
       "      <td>2</td>\n",
       "      <td>b</td>\n",
       "      <td>a</td>\n",
       "      <td>a</td>\n",
       "      <td>12.758389</td>\n",
       "      <td>30.436740</td>\n",
       "      <td>b</td>\n",
       "      <td>106.635964</td>\n",
       "      <td>2.359112</td>\n",
       "    </tr>\n",
       "    <tr>\n",
       "      <th>2</th>\n",
       "      <td>3</td>\n",
       "      <td>b</td>\n",
       "      <td>c</td>\n",
       "      <td>c</td>\n",
       "      <td>12.175140</td>\n",
       "      <td>17.215321</td>\n",
       "      <td>a</td>\n",
       "      <td>68.929510</td>\n",
       "      <td>2.319435</td>\n",
       "    </tr>\n",
       "    <tr>\n",
       "      <th>3</th>\n",
       "      <td>4</td>\n",
       "      <td>b</td>\n",
       "      <td>c</td>\n",
       "      <td>d</td>\n",
       "      <td>12.006609</td>\n",
       "      <td>14.416459</td>\n",
       "      <td>b</td>\n",
       "      <td>86.175208</td>\n",
       "      <td>2.417494</td>\n",
       "    </tr>\n",
       "    <tr>\n",
       "      <th>4</th>\n",
       "      <td>5</td>\n",
       "      <td>b</td>\n",
       "      <td>a</td>\n",
       "      <td>a</td>\n",
       "      <td>12.328071</td>\n",
       "      <td>30.396309</td>\n",
       "      <td>b</td>\n",
       "      <td>103.585413</td>\n",
       "      <td>2.268150</td>\n",
       "    </tr>\n",
       "  </tbody>\n",
       "</table>\n",
       "</div>"
      ],
      "text/plain": [
       "   Unnamed: 0  A  B  C          D          E  F           G         H\n",
       "0           1  a  b  d   6.460721  11.986566  b   34.842461  2.334846\n",
       "1           2  b  a  a  12.758389  30.436740  b  106.635964  2.359112\n",
       "2           3  b  c  c  12.175140  17.215321  a   68.929510  2.319435\n",
       "3           4  b  c  d  12.006609  14.416459  b   86.175208  2.417494\n",
       "4           5  b  a  a  12.328071  30.396309  b  103.585413  2.268150"
      ]
     },
     "execution_count": 2,
     "metadata": {},
     "output_type": "execute_result"
    }
   ],
   "source": [
    "df = pd.read_csv('clgaussian.csv')\n",
    "print(f'length of the dataset: {len(df)}')\n",
    "df.head()"
   ]
  },
  {
   "cell_type": "code",
   "execution_count": 3,
   "metadata": {},
   "outputs": [],
   "source": [
    "for col, categories in zip(['A', 'B', 'C', 'F'], [['a','b'], ['a','b','c'], ['a','b','c','d'], ['a','b']]):\n",
    "    cat_dtype = pd.api.types.CategoricalDtype(categories=categories)\n",
    "    df[col] = df[col].astype(cat_dtype)"
   ]
  },
  {
   "cell_type": "code",
   "execution_count": 4,
   "metadata": {},
   "outputs": [],
   "source": [
    "variable_dict = {\n",
    "    'A': VariableData(\n",
    "        NodeValueType.CATEGORICAL,\n",
    "        torch.tensor(df['A'].cat.codes).float(),\n",
    "        ['a', 'b'],\n",
    "    ),\n",
    "    'B': VariableData(\n",
    "        NodeValueType.CATEGORICAL,\n",
    "        torch.tensor(df['B'].cat.codes).float(),\n",
    "        ['a', 'b', 'c'],\n",
    "    ),\n",
    "    'C': VariableData(\n",
    "        NodeValueType.CATEGORICAL,\n",
    "        torch.tensor(df['C'].cat.codes).float(),\n",
    "        ['a', 'b', 'c', 'd'],\n",
    "    ),\n",
    "    'D': VariableData(\n",
    "        NodeValueType.CONTINUOUS,\n",
    "        torch.tensor(df['D']).float(),\n",
    "    ),\n",
    "    'E': VariableData(\n",
    "        NodeValueType.CONTINUOUS,\n",
    "        torch.tensor(df['E']).float(),\n",
    "    ),\n",
    "    'F': VariableData(\n",
    "        NodeValueType.CATEGORICAL,\n",
    "        torch.tensor(df['F'].cat.codes).float(),\n",
    "        ['a', 'b'],\n",
    "    ),\n",
    "    'G': VariableData(\n",
    "        NodeValueType.CONTINUOUS,\n",
    "        torch.tensor(df['G']).float(),\n",
    "    ),    \n",
    "    'H': VariableData(\n",
    "        NodeValueType.CONTINUOUS,\n",
    "        torch.tensor(df['H']).float(),\n",
    "    )\n",
    "}\n",
    "dataset = BayesianNetworkDataset(variable_dict)"
   ]
  },
  {
   "cell_type": "code",
   "execution_count": 5,
   "metadata": {},
   "outputs": [],
   "source": [
    "train_dataset, test_dataset = dataset.split((4000, 1000))"
   ]
  },
  {
   "cell_type": "markdown",
   "metadata": {},
   "source": [
    "## Declarative definition of the graphical model\n",
    "\n",
    "The graphical model shown in the bnlearn website can be specified declaratively as follows. The DAG of the model is also shown below."
   ]
  },
  {
   "cell_type": "code",
   "execution_count": 6,
   "metadata": {},
   "outputs": [
    {
     "name": "stdout",
     "output_type": "stream",
     "text": [
      "device:\r\n",
      "  index: 0\r\n",
      "  type: cpu\r\n",
      "encodingVersion: v1.0\r\n",
      "name: clgaussian\r\n",
      "plates: {}\r\n",
      "nodes:\r\n",
      "  A:\r\n",
      "    type: CategoricalNodeWithDirichletPrior\r\n",
      "    domain: ['a', 'b']\r\n",
      "    parents: []\r\n",
      "    plates: []\r\n",
      "  B:\r\n",
      "    type: CategoricalNodeWithDirichletPrior\r\n",
      "    domain: ['a', 'b', 'c']\r\n",
      "    parents: []\r\n",
      "    plates: []\r\n",
      "  C:\r\n",
      "    type: CategoricalNodeWithDirichletPrior\r\n",
      "    domain: ['a', 'b', 'c', 'd']\r\n",
      "    parents: []\r\n",
      "    plates: []\r\n",
      "  H:\r\n",
      "    type: ContinuousNodeWithNormalDistribution\r\n",
      "    parents: []\r\n",
      "    plates: []\r\n",
      "  D:\r\n",
      "    type: ConditionalLinearGaussianNode\r\n",
      "    parents: ['A', 'H']\r\n",
      "    plates: []\r\n",
      "  E:\r\n",
      "    type: ConditionalLinearGaussianNode\r\n",
      "    parents: ['B', 'D']\r\n",
      "    plates: []\r\n",
      "  F:\r\n",
      "    type: CategoricalNodeWithDirichletPrior\r\n",
      "    domain: ['a', 'b']\r\n",
      "    parents: ['B', 'C']\r\n",
      "    plates: []\r\n",
      "  G:\r\n",
      "    type: ConditionalLinearGaussianNode\r\n",
      "    parents: ['A', 'D', 'E', 'F']\r\n",
      "    plates: []\r\n"
     ]
    }
   ],
   "source": [
    "! cat clgaussian.yaml"
   ]
  },
  {
   "cell_type": "code",
   "execution_count": 7,
   "metadata": {},
   "outputs": [
    {
     "data": {
      "image/svg+xml": [
       "<?xml version=\"1.0\" encoding=\"UTF-8\" standalone=\"no\"?>\n",
       "<!DOCTYPE svg PUBLIC \"-//W3C//DTD SVG 1.1//EN\"\n",
       " \"http://www.w3.org/Graphics/SVG/1.1/DTD/svg11.dtd\">\n",
       "<!-- Generated by graphviz version 2.44.1 (20200629.0846)\n",
       " -->\n",
       "<!-- Title: clgaussian Pages: 1 -->\n",
       "<svg width=\"218pt\" height=\"260pt\"\n",
       " viewBox=\"0.00 0.00 217.69 260.00\" xmlns=\"http://www.w3.org/2000/svg\" xmlns:xlink=\"http://www.w3.org/1999/xlink\">\n",
       "<g id=\"graph0\" class=\"graph\" transform=\"scale(1 1) rotate(0) translate(4 256)\">\n",
       "<title>clgaussian</title>\n",
       "<polygon fill=\"white\" stroke=\"transparent\" points=\"-4,4 -4,-256 213.69,-256 213.69,4 -4,4\"/>\n",
       "<!-- H -->\n",
       "<g id=\"node1\" class=\"node\">\n",
       "<title>H</title>\n",
       "<ellipse fill=\"none\" stroke=\"black\" cx=\"27\" cy=\"-234\" rx=\"27\" ry=\"18\"/>\n",
       "<text text-anchor=\"middle\" x=\"27\" y=\"-230.3\" font-family=\"Times,serif\" font-size=\"14.00\">H</text>\n",
       "</g>\n",
       "<!-- D -->\n",
       "<g id=\"node6\" class=\"node\">\n",
       "<title>D</title>\n",
       "<ellipse fill=\"none\" stroke=\"black\" cx=\"27\" cy=\"-162\" rx=\"27\" ry=\"18\"/>\n",
       "<text text-anchor=\"middle\" x=\"27\" y=\"-158.3\" font-family=\"Times,serif\" font-size=\"14.00\">D</text>\n",
       "</g>\n",
       "<!-- H&#45;&gt;D -->\n",
       "<g id=\"edge1\" class=\"edge\">\n",
       "<title>H&#45;&gt;D</title>\n",
       "<path fill=\"none\" stroke=\"black\" d=\"M27,-215.7C27,-207.98 27,-198.71 27,-190.11\"/>\n",
       "<polygon fill=\"black\" stroke=\"black\" points=\"30.5,-190.1 27,-180.1 23.5,-190.1 30.5,-190.1\"/>\n",
       "</g>\n",
       "<!-- C -->\n",
       "<g id=\"node2\" class=\"node\">\n",
       "<title>C</title>\n",
       "<ellipse fill=\"none\" stroke=\"black\" cx=\"171\" cy=\"-162\" rx=\"27\" ry=\"18\"/>\n",
       "<text text-anchor=\"middle\" x=\"171\" y=\"-158.3\" font-family=\"Times,serif\" font-size=\"14.00\">C</text>\n",
       "</g>\n",
       "<!-- F -->\n",
       "<g id=\"node4\" class=\"node\">\n",
       "<title>F</title>\n",
       "<ellipse fill=\"none\" stroke=\"black\" cx=\"163\" cy=\"-90\" rx=\"27\" ry=\"18\"/>\n",
       "<text text-anchor=\"middle\" x=\"163\" y=\"-86.3\" font-family=\"Times,serif\" font-size=\"14.00\">F</text>\n",
       "</g>\n",
       "<!-- C&#45;&gt;F -->\n",
       "<g id=\"edge2\" class=\"edge\">\n",
       "<title>C&#45;&gt;F</title>\n",
       "<path fill=\"none\" stroke=\"black\" d=\"M169.02,-143.7C168.14,-135.98 167.08,-126.71 166.1,-118.11\"/>\n",
       "<polygon fill=\"black\" stroke=\"black\" points=\"169.57,-117.64 164.95,-108.1 162.61,-118.44 169.57,-117.64\"/>\n",
       "</g>\n",
       "<!-- B -->\n",
       "<g id=\"node3\" class=\"node\">\n",
       "<title>B</title>\n",
       "<ellipse fill=\"none\" stroke=\"black\" cx=\"99\" cy=\"-162\" rx=\"27\" ry=\"18\"/>\n",
       "<text text-anchor=\"middle\" x=\"99\" y=\"-158.3\" font-family=\"Times,serif\" font-size=\"14.00\">B</text>\n",
       "</g>\n",
       "<!-- B&#45;&gt;F -->\n",
       "<g id=\"edge3\" class=\"edge\">\n",
       "<title>B&#45;&gt;F</title>\n",
       "<path fill=\"none\" stroke=\"black\" d=\"M112.57,-146.15C121.31,-136.6 132.83,-123.99 142.66,-113.25\"/>\n",
       "<polygon fill=\"black\" stroke=\"black\" points=\"145.28,-115.57 149.45,-105.82 140.12,-110.84 145.28,-115.57\"/>\n",
       "</g>\n",
       "<!-- E -->\n",
       "<g id=\"node7\" class=\"node\">\n",
       "<title>E</title>\n",
       "<ellipse fill=\"none\" stroke=\"black\" cx=\"91\" cy=\"-90\" rx=\"27\" ry=\"18\"/>\n",
       "<text text-anchor=\"middle\" x=\"91\" y=\"-86.3\" font-family=\"Times,serif\" font-size=\"14.00\">E</text>\n",
       "</g>\n",
       "<!-- B&#45;&gt;E -->\n",
       "<g id=\"edge4\" class=\"edge\">\n",
       "<title>B&#45;&gt;E</title>\n",
       "<path fill=\"none\" stroke=\"black\" d=\"M97.02,-143.7C96.14,-135.98 95.08,-126.71 94.1,-118.11\"/>\n",
       "<polygon fill=\"black\" stroke=\"black\" points=\"97.57,-117.64 92.95,-108.1 90.61,-118.44 97.57,-117.64\"/>\n",
       "</g>\n",
       "<!-- G -->\n",
       "<g id=\"node8\" class=\"node\">\n",
       "<title>G</title>\n",
       "<ellipse fill=\"none\" stroke=\"black\" cx=\"127\" cy=\"-18\" rx=\"27\" ry=\"18\"/>\n",
       "<text text-anchor=\"middle\" x=\"127\" y=\"-14.3\" font-family=\"Times,serif\" font-size=\"14.00\">G</text>\n",
       "</g>\n",
       "<!-- F&#45;&gt;G -->\n",
       "<g id=\"edge5\" class=\"edge\">\n",
       "<title>F&#45;&gt;G</title>\n",
       "<path fill=\"none\" stroke=\"black\" d=\"M154.65,-72.76C150.29,-64.28 144.85,-53.71 139.96,-44.2\"/>\n",
       "<polygon fill=\"black\" stroke=\"black\" points=\"142.99,-42.44 135.3,-35.15 136.77,-45.64 142.99,-42.44\"/>\n",
       "</g>\n",
       "<!-- A -->\n",
       "<g id=\"node5\" class=\"node\">\n",
       "<title>A</title>\n",
       "<ellipse fill=\"none\" stroke=\"black\" cx=\"162\" cy=\"-234\" rx=\"27\" ry=\"18\"/>\n",
       "<text text-anchor=\"middle\" x=\"162\" y=\"-230.3\" font-family=\"Times,serif\" font-size=\"14.00\">A</text>\n",
       "</g>\n",
       "<!-- A&#45;&gt;D -->\n",
       "<g id=\"edge6\" class=\"edge\">\n",
       "<title>A&#45;&gt;D</title>\n",
       "<path fill=\"none\" stroke=\"black\" d=\"M141.2,-222.22C118.54,-210.47 82.11,-191.57 56.5,-178.3\"/>\n",
       "<polygon fill=\"black\" stroke=\"black\" points=\"58.09,-175.18 47.6,-173.68 54.87,-181.39 58.09,-175.18\"/>\n",
       "</g>\n",
       "<!-- A&#45;&gt;G -->\n",
       "<g id=\"edge7\" class=\"edge\">\n",
       "<title>A&#45;&gt;G</title>\n",
       "<path fill=\"none\" stroke=\"black\" d=\"M178.21,-219.57C188.63,-209.82 201.26,-195.64 207,-180 214.92,-158.43 202.51,-78.08 199,-72 189.55,-55.64 172.81,-42.85 157.85,-33.94\"/>\n",
       "<polygon fill=\"black\" stroke=\"black\" points=\"159.28,-30.73 148.84,-28.9 155.85,-36.84 159.28,-30.73\"/>\n",
       "</g>\n",
       "<!-- D&#45;&gt;E -->\n",
       "<g id=\"edge8\" class=\"edge\">\n",
       "<title>D&#45;&gt;E</title>\n",
       "<path fill=\"none\" stroke=\"black\" d=\"M40.57,-146.15C49.31,-136.6 60.83,-123.99 70.66,-113.25\"/>\n",
       "<polygon fill=\"black\" stroke=\"black\" points=\"73.28,-115.57 77.45,-105.82 68.12,-110.84 73.28,-115.57\"/>\n",
       "</g>\n",
       "<!-- D&#45;&gt;G -->\n",
       "<g id=\"edge9\" class=\"edge\">\n",
       "<title>D&#45;&gt;G</title>\n",
       "<path fill=\"none\" stroke=\"black\" d=\"M29.15,-143.85C32.23,-124.8 39.37,-93.88 55,-72 65.99,-56.63 82.81,-43.89 97.43,-34.76\"/>\n",
       "<polygon fill=\"black\" stroke=\"black\" points=\"99.37,-37.67 106.17,-29.55 95.79,-31.66 99.37,-37.67\"/>\n",
       "</g>\n",
       "<!-- E&#45;&gt;G -->\n",
       "<g id=\"edge10\" class=\"edge\">\n",
       "<title>E&#45;&gt;G</title>\n",
       "<path fill=\"none\" stroke=\"black\" d=\"M99.35,-72.76C103.71,-64.28 109.15,-53.71 114.04,-44.2\"/>\n",
       "<polygon fill=\"black\" stroke=\"black\" points=\"117.23,-45.64 118.7,-35.15 111.01,-42.44 117.23,-45.64\"/>\n",
       "</g>\n",
       "</g>\n",
       "</svg>\n"
      ],
      "text/plain": [
       "<graphviz.files.Source at 0x138f21e20>"
      ]
     },
     "execution_count": 7,
     "metadata": {},
     "output_type": "execute_result"
    }
   ],
   "source": [
    "model = from_yaml('clgaussian.yaml')\n",
    "model.write_dot('clgaussian.dot')\n",
    "graphviz.Source.from_file('clgaussian.dot')"
   ]
  },
  {
   "cell_type": "markdown",
   "metadata": {},
   "source": [
    "## Training\n",
    "Learn the parameters using SVI."
   ]
  },
  {
   "cell_type": "code",
   "execution_count": 8,
   "metadata": {},
   "outputs": [],
   "source": [
    "adam = Adam({'lr': 0.005, 'betas': (0.95, 0.995)})"
   ]
  },
  {
   "cell_type": "code",
   "execution_count": 9,
   "metadata": {},
   "outputs": [
    {
     "name": "stderr",
     "output_type": "stream",
     "text": [
      " 10%|▉         | 1998/20000 [00:39<05:49, 51.55it/s]svi_step: 2000\n",
      "elbo: 52474.9381390214\n",
      " 20%|█▉        | 3994/20000 [01:19<05:08, 51.85it/s]svi_step: 4000\n",
      "elbo: 24281.874556064606\n",
      " 30%|██▉       | 5997/20000 [01:59<04:29, 52.02it/s]svi_step: 6000\n",
      "elbo: 16687.956416249275\n",
      " 40%|███▉      | 7998/20000 [02:41<04:07, 48.46it/s]svi_step: 8000\n",
      "elbo: 16448.20926940441\n",
      " 50%|████▉     | 9996/20000 [03:22<03:12, 51.91it/s]svi_step: 10000\n",
      "elbo: 16313.563442468643\n",
      " 60%|█████▉    | 11997/20000 [04:01<02:34, 51.88it/s]svi_step: 12000\n",
      "elbo: 16250.251481175423\n",
      " 70%|██████▉   | 13996/20000 [04:40<01:56, 51.71it/s]svi_step: 14000\n",
      "elbo: 16261.04537087679\n",
      " 80%|███████▉  | 15998/20000 [05:19<01:17, 51.86it/s]svi_step: 16000\n",
      "elbo: 16252.376795172691\n",
      " 90%|████████▉ | 17997/20000 [05:58<00:39, 51.25it/s]svi_step: 18000\n",
      "elbo: 16297.103867650032\n",
      "100%|█████████▉| 19994/20000 [06:37<00:00, 50.86it/s]svi_step: 20000\n",
      "elbo: 16256.185936391354\n",
      "100%|██████████| 20000/20000 [06:37<00:00, 50.29it/s]\n",
      "training time: 397.6936528682709\n"
     ]
    }
   ],
   "source": [
    "loss=model.train(\n",
    "    dataset=train_dataset,\n",
    "    optimizer=adam,\n",
    "    num_steps=20000,\n",
    ")"
   ]
  },
  {
   "cell_type": "code",
   "execution_count": 10,
   "metadata": {},
   "outputs": [
    {
     "data": {
      "text/plain": [
       "[<matplotlib.lines.Line2D at 0x1390268e0>]"
      ]
     },
     "execution_count": 10,
     "metadata": {},
     "output_type": "execute_result"
    },
    {
     "data": {
      "image/png": "[encoded data removed]",
      "text/plain": [
       "<Figure size 432x288 with 1 Axes>"
      ]
     },
     "metadata": {
      "needs_background": "light"
     },
     "output_type": "display_data"
    }
   ],
   "source": [
    "axes = plt.gca()\n",
    "plt.plot(loss)"
   ]
  },
  {
   "cell_type": "markdown",
   "metadata": {},
   "source": [
    "## Verify learned parameters\n",
    "Let us compare the parameters learned using the bnlearn R package and those of the model."
   ]
  },
  {
   "cell_type": "code",
   "execution_count": 11,
   "metadata": {},
   "outputs": [
    {
     "name": "stdout",
     "output_type": "stream",
     "text": [
      "tensor([0.0961, 0.9039], grad_fn=<DivBackward0>)\n"
     ]
    }
   ],
   "source": [
    "# CPD over A is Cat(0.0948, 0.9052 )\n",
    "alphas = model.get_node_object('A').guide_alpha\n",
    "print(alphas / torch.sum(alphas, dim=-1, keepdim=True))"
   ]
  },
  {
   "cell_type": "code",
   "execution_count": 12,
   "metadata": {},
   "outputs": [
    {
     "name": "stdout",
     "output_type": "stream",
     "text": [
      "tensor([0.4109, 0.1799, 0.4092], grad_fn=<DivBackward0>)\n"
     ]
    }
   ],
   "source": [
    "# CPD over B is Cat(0.4098 0.1882 0.4020)\n",
    "alphas = model.get_node_object('B').guide_alpha\n",
    "print(alphas / torch.sum(alphas, dim=-1, keepdim=True))"
   ]
  },
  {
   "cell_type": "code",
   "execution_count": 13,
   "metadata": {},
   "outputs": [
    {
     "name": "stdout",
     "output_type": "stream",
     "text": [
      "tensor([0.2529, 0.2519, 0.3925, 0.1027], grad_fn=<DivBackward0>)\n"
     ]
    }
   ],
   "source": [
    "# CPD over C is Cat(0.2492 0.2506 0.3984 0.1018)\n",
    "alphas = model.get_node_object('C').guide_alpha\n",
    "print(alphas / torch.sum(alphas, dim=-1, keepdim=True))"
   ]
  },
  {
   "cell_type": "code",
   "execution_count": 14,
   "metadata": {},
   "outputs": [
    {
     "name": "stdout",
     "output_type": "stream",
     "text": [
      "tensor([4.8389, 9.9357], requires_grad=True)\n",
      "tensor([[1.0684],\n",
      "        [1.0254]], requires_grad=True)\n",
      "tensor([0.5010, 0.3078], grad_fn=<AddBackward0>)\n"
     ]
    }
   ],
   "source": [
    "# CPD over D\n",
    "# N(5.2919300 + H * 0.8817193, 0.5099208) when A=a\n",
    "# N(10.0410549 + H * 0.9834474, 0.3073215) when A=b\n",
    "node_object = model.get_node_object('D')\n",
    "bias = node_object.guide_bias_mean\n",
    "weights = node_object.guide_weights_mean\n",
    "scale = node_object.guide_scale_scale\n",
    "print(bias)\n",
    "print(weights)\n",
    "print(scale)"
   ]
  },
  {
   "cell_type": "code",
   "execution_count": 15,
   "metadata": {},
   "outputs": [
    {
     "name": "stdout",
     "output_type": "stream",
     "text": [
      "tensor([0.9963, 4.4288, 7.9967], requires_grad=True)\n",
      "tensor([[2.3517],\n",
      "        [1.1392],\n",
      "        [0.6631]], requires_grad=True)\n",
      "tensor([0.5071, 1.0036, 1.5179], grad_fn=<AddBackward0>)\n"
     ]
    }
   ],
   "source": [
    "# CPD over E\n",
    "# N(0.9953554 + 2.3516060 * D, 0.5084347) when B=a\n",
    "# N(4.3440402 + 1.1510685 * D, 0.9916523) when B=b\n",
    "# N(7.9191636 + 0.6742652 * D, 1.5191395) when B=c\n",
    "node_object = model.get_node_object('E')\n",
    "bias = node_object.guide_bias_mean\n",
    "weights = node_object.guide_weights_mean\n",
    "scale = node_object.guide_scale_scale\n",
    "print(bias)\n",
    "print(weights)\n",
    "print(scale)"
   ]
  },
  {
   "cell_type": "code",
   "execution_count": 16,
   "metadata": {},
   "outputs": [
    {
     "name": "stdout",
     "output_type": "stream",
     "text": [
      "tensor([[[0.0866, 0.9134],\n",
      "         [0.4618, 0.5382],\n",
      "         [0.7031, 0.2969],\n",
      "         [0.8486, 0.1514]],\n",
      "\n",
      "        [[0.1579, 0.8421],\n",
      "         [0.2833, 0.7167],\n",
      "         [0.4156, 0.5844],\n",
      "         [0.4428, 0.5572]],\n",
      "\n",
      "        [[0.5234, 0.4766],\n",
      "         [0.4836, 0.5164],\n",
      "         [0.7526, 0.2474],\n",
      "         [0.7299, 0.2701]]], grad_fn=<DivBackward0>)\n"
     ]
    }
   ],
   "source": [
    "# CPD over F\n",
    "# Cat([\n",
    "#         [\n",
    "#             [0.07875458, 0.92124542], \n",
    "#             [0.45525292, 0.54474708], \n",
    "#             [0.67905824, 0.32094176], \n",
    "#             [0.85714286, 0.14285714]\n",
    "#         ], \n",
    "#         [\n",
    "#             [0.14977974, 0.85022026], \n",
    "#             [0.26293103, 0.73706897], \n",
    "#             [0.42297650, 0.57702350], \n",
    "#             [0.45454545, 0.54545455]\n",
    "#         ], \n",
    "#         [\n",
    "#             [0.51162791, 0.48837209], \n",
    "#             [0.47731755, 0.52268245], \n",
    "#             [0.74937656, 0.25062344], \n",
    "#             [0.73684211, 0.26315789]\n",
    "#         ]\n",
    "#     ]\n",
    "# )\n",
    "alphas = model.get_node_object('F').guide_alpha\n",
    "print(alphas / torch.sum(alphas, dim=-1, keepdim=True))"
   ]
  },
  {
   "cell_type": "code",
   "execution_count": 17,
   "metadata": {},
   "outputs": [
    {
     "name": "stdout",
     "output_type": "stream",
     "text": [
      "tensor([[4.9459, 3.6304],\n",
      "        [2.4588, 2.8089]], requires_grad=True)\n",
      "tensor([[[2.2537, 1.0026],\n",
      "         [2.9707, 1.0024]],\n",
      "\n",
      "        [[4.0600, 1.0007],\n",
      "         [5.7535, 1.0000]]], requires_grad=True)\n",
      "tensor([[0.0596, 0.2591],\n",
      "        [0.1496, 0.3553]], grad_fn=<AddBackward0>)\n"
     ]
    }
   ],
   "source": [
    "# CPD over G\n",
    "# N(4.949135 + 2.252665 * D + 1.002022 * E, 0.05456809) when A=a, F=a\n",
    "# N(3.485634 + 2.989924 * D + 1.003836 * E, 0.26272612) when A=a, F=b\n",
    "# N(2.384710 + 4.066430 * D + 1.000199 * E, 0.14946301) when A=b, F=a\n",
    "# N(2.140170 + 5.806728 * D + 1.001002 * E, 0.35182957) When A=b, F=b\n",
    "node_object = model.get_node_object('G')\n",
    "bias = node_object.guide_bias_mean\n",
    "weights = node_object.guide_weights_mean\n",
    "scale = node_object.guide_scale_scale\n",
    "print(bias)\n",
    "print(weights)\n",
    "print(scale)"
   ]
  },
  {
   "cell_type": "markdown",
   "metadata": {},
   "source": [
    "## Predictions\n",
    "Let us predict the variable 'A' given the values of other variables."
   ]
  },
  {
   "cell_type": "code",
   "execution_count": 18,
   "metadata": {},
   "outputs": [
    {
     "name": "stdout",
     "output_type": "stream",
     "text": [
      "accuracy is 1.0\n"
     ]
    }
   ],
   "source": [
    "_, map_assignment, _ = model.predict(\n",
    "    dataset=test_dataset,\n",
    "    target_variables=['A']\n",
    ")\n",
    "acc = float(torch.eq(map_assignment['A'], test_dataset['A']).sum()) / len(test_dataset)\n",
    "print(f'accuracy is {acc}')"
   ]
  }
 ],
 "metadata": {
  "kernelspec": {
   "display_name": "Python 3",
   "language": "python",
   "name": "python3"
  },
  "language_info": {
   "codemirror_mode": {
    "name": "ipython",
    "version": 3
   },
   "file_extension": ".py",
   "mimetype": "text/x-python",
   "name": "python",
   "nbconvert_exporter": "python",
   "pygments_lexer": "ipython3",
   "version": "3.8.7"
  }
 },
 "nbformat": 4,
 "nbformat_minor": 4
}
