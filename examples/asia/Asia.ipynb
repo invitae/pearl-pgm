{
 "cells": [
  {
   "cell_type": "markdown",
   "metadata": {},
   "source": [
    "# Asia BN"
   ]
  },
  {
   "cell_type": "markdown",
   "metadata": {},
   "source": [
    "This notebook is meant for testing the Pearl API on a toy Bayesian Network. This network has 8 binary variables. The \"NET\" encoding of this model and a simulated dataset generated from it can be found at the following links:\n",
    "* https://www.bnlearn.com/bnrepository/asia/asia.net.gz\n",
    "* http://www.ccd.pitt.edu/wiki/images/ASIA10k.csv"
   ]
  },
  {
   "cell_type": "code",
   "execution_count": 1,
   "metadata": {},
   "outputs": [],
   "source": [
    "from pearl.bayesnet import BayesianNetwork\n",
    "from pearl.nodes.categorical import CategoricalNodeWithDirichletPrior\n",
    "from pearl.data import BayesianNetworkDataset, VariableData\n",
    "from pearl.common import NodeValueType\n",
    "\n",
    "\n",
    "import torch\n",
    "from pyro.optim import Adam\n",
    "import pandas as pd\n",
    "import graphviz\n",
    "from time import time\n",
    "import urllib\n",
    "import os\n",
    "import gzip\n",
    "from sklearn.metrics import accuracy_score\n",
    "\n",
    "import matplotlib.pyplot as plt"
   ]
  },
  {
   "cell_type": "code",
   "execution_count": 2,
   "metadata": {},
   "outputs": [],
   "source": [
    "if torch.cuda.is_available():\n",
    "    device = torch.device(\"cuda\")\n",
    "else:\n",
    "    device = torch.device(\"cpu\")"
   ]
  },
  {
   "cell_type": "markdown",
   "metadata": {},
   "source": [
    "## Dataset\n",
    "\n",
    "We get the simulated dataset for the Asia Bayesian Network and package it as a `BayesianNetworkDataset` object."
   ]
  },
  {
   "cell_type": "code",
   "execution_count": 3,
   "metadata": {},
   "outputs": [],
   "source": [
    "def converter(x):\n",
    "    if x == 'yes':\n",
    "        return 0\n",
    "    else:\n",
    "        return 1\n",
    "\n",
    "try:\n",
    "    asia_dataset = torch.load(\"asia_dataset.pkl\")\n",
    "except:    \n",
    "    df = pd.read_csv(\n",
    "        \"http://www.ccd.pitt.edu/wiki/images/ASIA10k.csv\",\n",
    "        converters = {k:converter for k in range(8)}\n",
    "    )\n",
    "    variable_dict = {\n",
    "        k: VariableData(\n",
    "            NodeValueType.CATEGORICAL,\n",
    "            torch.tensor(df[k].to_numpy(), device=device).float(),\n",
    "            [\"yes\", \"no\"],\n",
    "        )\n",
    "        for k in df.columns\n",
    "    }\n",
    "    asia_dataset = BayesianNetworkDataset(variable_dict)\n",
    "    torch.save(asia_dataset, \"asia_dataset.pkl\")"
   ]
  },
  {
   "cell_type": "markdown",
   "metadata": {},
   "source": [
    "### Split the dataset"
   ]
  },
  {
   "cell_type": "code",
   "execution_count": 4,
   "metadata": {},
   "outputs": [],
   "source": [
    "num_train_instances = int(len(asia_dataset) * 0.8)\n",
    "num_test_instances = len(asia_dataset) - num_train_instances\n",
    "train_dataset, test_dataset = asia_dataset.split((num_train_instances, num_test_instances))"
   ]
  },
  {
   "cell_type": "markdown",
   "metadata": {},
   "source": [
    "## Define the model"
   ]
  },
  {
   "cell_type": "code",
   "execution_count": 5,
   "metadata": {},
   "outputs": [],
   "source": [
    "asia_model = BayesianNetwork(\"asia\", device=device)\n",
    "asia_model.add_variable(CategoricalNodeWithDirichletPrior, \"asia\", [], [], domain=[\"yes\", \"no\"])\n",
    "asia_model.add_variable(CategoricalNodeWithDirichletPrior, \"smoke\", [], [], domain=[\"yes\", \"no\"])\n",
    "asia_model.add_variable(CategoricalNodeWithDirichletPrior, \"tub\", [\"asia\"], [], domain=[\"yes\", \"no\"])\n",
    "asia_model.add_variable(CategoricalNodeWithDirichletPrior, \"lung\", [\"smoke\"], [], domain=[\"yes\", \"no\"])\n",
    "asia_model.add_variable(CategoricalNodeWithDirichletPrior, \"either\", [\"lung\", \"tub\"], [], domain=[\"yes\", \"no\"])\n",
    "asia_model.add_variable(CategoricalNodeWithDirichletPrior, \"bronc\", [\"smoke\"], [], domain=[\"yes\", \"no\"])\n",
    "asia_model.add_variable(CategoricalNodeWithDirichletPrior, \"xray\", [\"either\"], [], domain=[\"yes\", \"no\"])\n",
    "asia_model.add_variable(CategoricalNodeWithDirichletPrior, \"dysp\", [\"bronc\", \"either\"], [], domain=[\"yes\", \"no\"])"
   ]
  },
  {
   "cell_type": "markdown",
   "metadata": {},
   "source": [
    "### Use context specific independence"
   ]
  },
  {
   "cell_type": "markdown",
   "metadata": {},
   "source": [
    "The node \"either\" denotes the logical disjunction of its parents (\"tuberculosis\" and \"lung cancer\"). It should ideally be implemented as a logical OR function. Neverthless, we can make the context specific independence asssertion that if one of the parents is \"yes\", then the value of the other parent doesn't really affect the CPD of node."
   ]
  },
  {
   "cell_type": "code",
   "execution_count": 6,
   "metadata": {},
   "outputs": [],
   "source": [
    "asia_model.get_node_object(\"either\").model_add_csi_rule({0: 0}) # first parent is yes\n",
    "asia_model.get_node_object(\"either\").guide_add_csi_rule({0: 0}) # first parent is yes"
   ]
  },
  {
   "cell_type": "markdown",
   "metadata": {},
   "source": [
    "### Visualize the model"
   ]
  },
  {
   "cell_type": "code",
   "execution_count": 7,
   "metadata": {},
   "outputs": [
    {
     "data": {
      "image/svg+xml": [
       "<?xml version=\"1.0\" encoding=\"UTF-8\" standalone=\"no\"?>\n",
       "<!DOCTYPE svg PUBLIC \"-//W3C//DTD SVG 1.1//EN\"\n",
       " \"http://www.w3.org/Graphics/SVG/1.1/DTD/svg11.dtd\">\n",
       "<!-- Generated by graphviz version 2.44.1 (20200629.0846)\n",
       " -->\n",
       "<!-- Title: asia Pages: 1 -->\n",
       "<svg width=\"193pt\" height=\"260pt\"\n",
       " viewBox=\"0.00 0.00 192.55 260.00\" xmlns=\"http://www.w3.org/2000/svg\" xmlns:xlink=\"http://www.w3.org/1999/xlink\">\n",
       "<g id=\"graph0\" class=\"graph\" transform=\"scale(1 1) rotate(0) translate(4 256)\">\n",
       "<title>asia</title>\n",
       "<polygon fill=\"white\" stroke=\"transparent\" points=\"-4,4 -4,-256 188.55,-256 188.55,4 -4,4\"/>\n",
       "<!-- asia -->\n",
       "<g id=\"node1\" class=\"node\">\n",
       "<title>asia</title>\n",
       "<ellipse fill=\"none\" stroke=\"black\" cx=\"27\" cy=\"-234\" rx=\"27\" ry=\"18\"/>\n",
       "<text text-anchor=\"middle\" x=\"27\" y=\"-230.3\" font-family=\"Times,serif\" font-size=\"14.00\">asia</text>\n",
       "</g>\n",
       "<!-- tub -->\n",
       "<g id=\"node3\" class=\"node\">\n",
       "<title>tub</title>\n",
       "<ellipse fill=\"none\" stroke=\"black\" cx=\"27\" cy=\"-162\" rx=\"27\" ry=\"18\"/>\n",
       "<text text-anchor=\"middle\" x=\"27\" y=\"-158.3\" font-family=\"Times,serif\" font-size=\"14.00\">tub</text>\n",
       "</g>\n",
       "<!-- asia&#45;&gt;tub -->\n",
       "<g id=\"edge1\" class=\"edge\">\n",
       "<title>asia&#45;&gt;tub</title>\n",
       "<path fill=\"none\" stroke=\"black\" d=\"M27,-215.7C27,-207.98 27,-198.71 27,-190.11\"/>\n",
       "<polygon fill=\"black\" stroke=\"black\" points=\"30.5,-190.1 27,-180.1 23.5,-190.1 30.5,-190.1\"/>\n",
       "</g>\n",
       "<!-- smoke -->\n",
       "<g id=\"node2\" class=\"node\">\n",
       "<title>smoke</title>\n",
       "<ellipse fill=\"none\" stroke=\"black\" cx=\"130\" cy=\"-234\" rx=\"34.39\" ry=\"18\"/>\n",
       "<text text-anchor=\"middle\" x=\"130\" y=\"-230.3\" font-family=\"Times,serif\" font-size=\"14.00\">smoke</text>\n",
       "</g>\n",
       "<!-- lung -->\n",
       "<g id=\"node4\" class=\"node\">\n",
       "<title>lung</title>\n",
       "<ellipse fill=\"none\" stroke=\"black\" cx=\"99\" cy=\"-162\" rx=\"27\" ry=\"18\"/>\n",
       "<text text-anchor=\"middle\" x=\"99\" y=\"-158.3\" font-family=\"Times,serif\" font-size=\"14.00\">lung</text>\n",
       "</g>\n",
       "<!-- smoke&#45;&gt;lung -->\n",
       "<g id=\"edge2\" class=\"edge\">\n",
       "<title>smoke&#45;&gt;lung</title>\n",
       "<path fill=\"none\" stroke=\"black\" d=\"M122.65,-216.41C118.99,-208.13 114.47,-197.92 110.36,-188.66\"/>\n",
       "<polygon fill=\"black\" stroke=\"black\" points=\"113.54,-187.2 106.29,-179.47 107.14,-190.03 113.54,-187.2\"/>\n",
       "</g>\n",
       "<!-- bronc -->\n",
       "<g id=\"node6\" class=\"node\">\n",
       "<title>bronc</title>\n",
       "<ellipse fill=\"none\" stroke=\"black\" cx=\"154\" cy=\"-90\" rx=\"30.59\" ry=\"18\"/>\n",
       "<text text-anchor=\"middle\" x=\"154\" y=\"-86.3\" font-family=\"Times,serif\" font-size=\"14.00\">bronc</text>\n",
       "</g>\n",
       "<!-- smoke&#45;&gt;bronc -->\n",
       "<g id=\"edge3\" class=\"edge\">\n",
       "<title>smoke&#45;&gt;bronc</title>\n",
       "<path fill=\"none\" stroke=\"black\" d=\"M132.89,-215.87C136.99,-191.67 144.5,-147.21 149.37,-118.39\"/>\n",
       "<polygon fill=\"black\" stroke=\"black\" points=\"152.88,-118.63 151.09,-108.19 145.98,-117.47 152.88,-118.63\"/>\n",
       "</g>\n",
       "<!-- either -->\n",
       "<g id=\"node5\" class=\"node\">\n",
       "<title>either</title>\n",
       "<ellipse fill=\"none\" stroke=\"black\" cx=\"75\" cy=\"-90\" rx=\"30.59\" ry=\"18\"/>\n",
       "<text text-anchor=\"middle\" x=\"75\" y=\"-86.3\" font-family=\"Times,serif\" font-size=\"14.00\">either</text>\n",
       "</g>\n",
       "<!-- tub&#45;&gt;either -->\n",
       "<g id=\"edge4\" class=\"edge\">\n",
       "<title>tub&#45;&gt;either</title>\n",
       "<path fill=\"none\" stroke=\"black\" d=\"M37.89,-145.12C43.82,-136.47 51.29,-125.58 57.97,-115.83\"/>\n",
       "<polygon fill=\"black\" stroke=\"black\" points=\"61.05,-117.53 63.82,-107.31 55.28,-113.57 61.05,-117.53\"/>\n",
       "</g>\n",
       "<!-- lung&#45;&gt;either -->\n",
       "<g id=\"edge5\" class=\"edge\">\n",
       "<title>lung&#45;&gt;either</title>\n",
       "<path fill=\"none\" stroke=\"black\" d=\"M93.19,-144.05C90.45,-136.06 87.11,-126.33 84.05,-117.4\"/>\n",
       "<polygon fill=\"black\" stroke=\"black\" points=\"87.31,-116.11 80.76,-107.79 80.69,-118.38 87.31,-116.11\"/>\n",
       "</g>\n",
       "<!-- xray -->\n",
       "<g id=\"node7\" class=\"node\">\n",
       "<title>xray</title>\n",
       "<ellipse fill=\"none\" stroke=\"black\" cx=\"75\" cy=\"-18\" rx=\"27\" ry=\"18\"/>\n",
       "<text text-anchor=\"middle\" x=\"75\" y=\"-14.3\" font-family=\"Times,serif\" font-size=\"14.00\">xray</text>\n",
       "</g>\n",
       "<!-- either&#45;&gt;xray -->\n",
       "<g id=\"edge6\" class=\"edge\">\n",
       "<title>either&#45;&gt;xray</title>\n",
       "<path fill=\"none\" stroke=\"black\" d=\"M75,-71.7C75,-63.98 75,-54.71 75,-46.11\"/>\n",
       "<polygon fill=\"black\" stroke=\"black\" points=\"78.5,-46.1 75,-36.1 71.5,-46.1 78.5,-46.1\"/>\n",
       "</g>\n",
       "<!-- dysp -->\n",
       "<g id=\"node8\" class=\"node\">\n",
       "<title>dysp</title>\n",
       "<ellipse fill=\"none\" stroke=\"black\" cx=\"150\" cy=\"-18\" rx=\"27.1\" ry=\"18\"/>\n",
       "<text text-anchor=\"middle\" x=\"150\" y=\"-14.3\" font-family=\"Times,serif\" font-size=\"14.00\">dysp</text>\n",
       "</g>\n",
       "<!-- either&#45;&gt;dysp -->\n",
       "<g id=\"edge7\" class=\"edge\">\n",
       "<title>either&#45;&gt;dysp</title>\n",
       "<path fill=\"none\" stroke=\"black\" d=\"M90.54,-74.5C101.17,-64.58 115.43,-51.26 127.33,-40.16\"/>\n",
       "<polygon fill=\"black\" stroke=\"black\" points=\"129.81,-42.63 134.74,-33.25 125.04,-37.51 129.81,-42.63\"/>\n",
       "</g>\n",
       "<!-- bronc&#45;&gt;dysp -->\n",
       "<g id=\"edge8\" class=\"edge\">\n",
       "<title>bronc&#45;&gt;dysp</title>\n",
       "<path fill=\"none\" stroke=\"black\" d=\"M153.01,-71.7C152.57,-63.98 152.04,-54.71 151.55,-46.11\"/>\n",
       "<polygon fill=\"black\" stroke=\"black\" points=\"155.04,-45.89 150.98,-36.1 148.05,-46.29 155.04,-45.89\"/>\n",
       "</g>\n",
       "</g>\n",
       "</svg>\n"
      ],
      "text/plain": [
       "<graphviz.files.Source at 0x13c809460>"
      ]
     },
     "execution_count": 7,
     "metadata": {},
     "output_type": "execute_result"
    }
   ],
   "source": [
    "asia_model.write_dot(\"asia_model.dot\")\n",
    "graphviz.Source.from_file(\"asia_model.dot\")"
   ]
  },
  {
   "cell_type": "markdown",
   "metadata": {},
   "source": [
    "## Training"
   ]
  },
  {
   "cell_type": "code",
   "execution_count": 8,
   "metadata": {},
   "outputs": [],
   "source": [
    "adam_params = {\"lr\": 0.005, \"betas\": (0.95, 0.999)}\n",
    "optimizer = Adam(adam_params)"
   ]
  },
  {
   "cell_type": "code",
   "execution_count": 9,
   "metadata": {},
   "outputs": [
    {
     "name": "stderr",
     "output_type": "stream",
     "text": [
      " 10%|▉         | 994/10000 [00:19<02:48, 53.32it/s]svi_step: 1000\n",
      "elbo: 26274.056110203266\n",
      " 20%|█▉        | 1999/10000 [00:38<02:32, 52.46it/s]svi_step: 2000\n",
      "elbo: 19066.920685768127\n",
      " 30%|██▉       | 2998/10000 [00:57<02:17, 50.77it/s]svi_step: 3000\n",
      "elbo: 19420.979018211365\n",
      " 40%|███▉      | 3994/10000 [01:17<01:54, 52.25it/s]svi_step: 4000\n",
      "elbo: 18780.951974868774\n",
      " 50%|████▉     | 4999/10000 [01:36<01:36, 51.59it/s]svi_step: 5000\n",
      "elbo: 19089.620227336884\n",
      " 60%|█████▉    | 5994/10000 [01:55<01:15, 52.81it/s]svi_step: 6000\n",
      "elbo: 18634.833123207092\n",
      " 70%|██████▉   | 6996/10000 [02:14<00:57, 52.33it/s]svi_step: 7000\n",
      "elbo: 18166.83264052868\n",
      " 80%|███████▉  | 7997/10000 [02:34<00:37, 53.50it/s]svi_step: 8000\n",
      "elbo: 18115.5498380661\n",
      " 90%|████████▉ | 8996/10000 [02:53<00:19, 52.72it/s]svi_step: 9000\n",
      "elbo: 17967.185181856155\n",
      "100%|█████████▉| 9997/10000 [03:11<00:00, 53.63it/s]svi_step: 10000\n",
      "elbo: 17984.354870796204\n",
      "100%|██████████| 10000/10000 [03:11<00:00, 52.09it/s]\n",
      "training time: 191.98933100700378\n"
     ]
    },
    {
     "name": "stdout",
     "output_type": "stream",
     "text": [
      "training time is 191.99339604377747\n"
     ]
    }
   ],
   "source": [
    "# train using SVI\n",
    "start=time()\n",
    "losses = asia_model.train(\n",
    "    dataset=train_dataset, \n",
    "    optimizer=optimizer, \n",
    "    num_steps=10000,\n",
    "    subsample_size=None,\n",
    "    logdir=\"/tmp\"\n",
    ")\n",
    "end=time()\n",
    "print(f\"training time is {end-start}\")"
   ]
  },
  {
   "cell_type": "code",
   "execution_count": 10,
   "metadata": {},
   "outputs": [
    {
     "data": {
      "text/plain": [
       "[<matplotlib.lines.Line2D at 0x13c840850>]"
      ]
     },
     "execution_count": 10,
     "metadata": {},
     "output_type": "execute_result"
    },
    {
     "data": {
      "image/png": "[encoded data removed]",
      "text/plain": [
       "<Figure size 432x288 with 1 Axes>"
      ]
     },
     "metadata": {
      "needs_background": "light"
     },
     "output_type": "display_data"
    }
   ],
   "source": [
    "plt.plot(losses)"
   ]
  },
  {
   "cell_type": "markdown",
   "metadata": {},
   "source": [
    "## Save to NET file\n",
    "Write the MAP CPDs to a \"NET\" file and compare with the reference \"NET\" file."
   ]
  },
  {
   "cell_type": "code",
   "execution_count": 11,
   "metadata": {},
   "outputs": [
    {
     "name": "stdout",
     "output_type": "stream",
     "text": [
      "net\n",
      "{\n",
      "\tname = asia;\n",
      "}\n",
      "node asia\n",
      "{\n",
      "\tstates = (\"yes\" \"no\");\n",
      "}\n",
      "node smoke\n",
      "{\n",
      "\tstates = (\"yes\" \"no\");\n",
      "}\n",
      "node tub\n",
      "{\n",
      "\tstates = (\"yes\" \"no\");\n",
      "}\n",
      "node lung\n",
      "{\n",
      "\tstates = (\"yes\" \"no\");\n",
      "}\n",
      "node either\n",
      "{\n",
      "\tstates = (\"yes\" \"no\");\n",
      "}\n",
      "node bronc\n",
      "{\n",
      "\tstates = (\"yes\" \"no\");\n",
      "}\n",
      "node xray\n",
      "{\n",
      "\tstates = (\"yes\" \"no\");\n",
      "}\n",
      "node dysp\n",
      "{\n",
      "\tstates = (\"yes\" \"no\");\n",
      "}\n",
      "potential ( asia | )\n",
      "{\n",
      "\tdata = (0.00983 0.99017);\n",
      "}\n",
      "potential ( smoke | )\n",
      "{\n",
      "\tdata = (0.49827 0.50173);\n",
      "}\n",
      "potential ( tub | asia)\n",
      "{\n",
      "\tdata = ((0.06301 0.93699) (0.01143 0.98857));\n",
      "}\n",
      "potential ( lung | smoke)\n",
      "{\n",
      "\tdata = ((0.09886 0.90114) (0.01118 0.98882));\n",
      "}\n",
      "potential ( either | lung tub)\n",
      "{\n",
      "\tdata = (((0.99735 0.00265) (0.99735 0.00265)) ((0.98898 0.01102) (0.00092 0.99908)));\n",
      "}\n",
      "potential ( bronc | smoke)\n",
      "{\n",
      "\tdata = ((0.59022 0.40978) (0.28573 0.71427));\n",
      "}\n",
      "potential ( xray | either)\n",
      "{\n",
      "\tdata = ((0.97721 0.02279) (0.05462 0.94538));\n",
      "}\n",
      "potential ( dysp | bronc either)\n",
      "{\n",
      "\tdata = (((0.90397 0.09603) (0.80802 0.19198)) ((0.70047 0.29953) (0.09049 0.90951)));\n",
      "}\n",
      "\n"
     ]
    }
   ],
   "source": [
    "asia_model.write_net(\"asia_model.net\")\n",
    "with open(\"asia_model.net\", \"rt\") as f:\n",
    "    print(f.read())"
   ]
  },
  {
   "cell_type": "markdown",
   "metadata": {},
   "source": [
    "Note that due to the use of context specific independence, the following two CPDs are identical: \n",
    "- $P(either|lung=yes,tub=yes)$\n",
    "- $P(either|lung=yes,tub=no)$"
   ]
  },
  {
   "cell_type": "code",
   "execution_count": 12,
   "metadata": {},
   "outputs": [
    {
     "name": "stdout",
     "output_type": "stream",
     "text": [
      "net \n",
      "{ \n",
      "}\n",
      "node asia \n",
      "{\n",
      "  states = ( \"yes\" \"no\" );\n",
      "}\n",
      "node tub \n",
      "{\n",
      "  states = ( \"yes\" \"no\" );\n",
      "}\n",
      "node smoke \n",
      "{\n",
      "  states = ( \"yes\" \"no\" );\n",
      "}\n",
      "node lung \n",
      "{\n",
      "  states = ( \"yes\" \"no\" );\n",
      "}\n",
      "node bronc \n",
      "{\n",
      "  states = ( \"yes\" \"no\" );\n",
      "}\n",
      "node either \n",
      "{\n",
      "  states = ( \"yes\" \"no\" );\n",
      "}\n",
      "node xray \n",
      "{\n",
      "  states = ( \"yes\" \"no\" );\n",
      "}\n",
      "node dysp \n",
      "{\n",
      "  states = ( \"yes\" \"no\" );\n",
      "}\n",
      "potential ( asia ) \n",
      "{\n",
      "  data = ( 0.01 0.99 );\n",
      "}\n",
      "potential ( tub | asia ) \n",
      "{\n",
      "  data = ((0.05 0.95)(0.01 0.99)) ;\n",
      "}\n",
      "potential ( smoke ) \n",
      "{\n",
      "  data = ( 0.5 0.5 );\n",
      "}\n",
      "potential ( lung | smoke ) \n",
      "{\n",
      "  data = ((0.1 0.9)(0.01 0.99)) ;\n",
      "}\n",
      "potential ( bronc | smoke ) \n",
      "{\n",
      "  data = ((0.6 0.4)(0.3 0.7)) ;\n",
      "}\n",
      "potential ( either | lung tub ) \n",
      "{\n",
      "  data = (((1.0 0.0)(1.0 0.0))((1.0 0.0)(0.0 1.0))) ;\n",
      "}\n",
      "potential ( xray | either ) \n",
      "{\n",
      "  data = ((0.98 0.02)(0.05 0.95)) ;\n",
      "}\n",
      "potential ( dysp | bronc either ) \n",
      "{\n",
      "  data = (((0.9 0.1)(0.8 0.2))((0.7 0.3)(0.1 0.9))) ;\n",
      "}\n",
      "\n"
     ]
    }
   ],
   "source": [
    "if not os.path.isfile(\"asia.net.gz\"):\n",
    "    urllib.request.urlretrieve(\"https://www.bnlearn.com/bnrepository/asia/asia.net.gz\", \"asia.net.gz\")\n",
    "\n",
    "with gzip.open(\"asia.net.gz\", \"rt\") as f:\n",
    "    print(f.read())"
   ]
  },
  {
   "cell_type": "markdown",
   "metadata": {},
   "source": [
    "## Prediction"
   ]
  },
  {
   "cell_type": "markdown",
   "metadata": {},
   "source": [
    "Let us use the model to predict the value of \"tuberculosis\" given other data."
   ]
  },
  {
   "cell_type": "code",
   "execution_count": 13,
   "metadata": {},
   "outputs": [
    {
     "name": "stdout",
     "output_type": "stream",
     "text": [
      "time taken for predictions is 1.0620810985565186\n",
      "accuracy is 1.0\n"
     ]
    }
   ],
   "source": [
    "true_labels = test_dataset[\"tub\"].clone().detach()\n",
    "test_dataset[\"tub\"] = torch.zeros(len(test_dataset)) # zero out the labels in test-dataset\n",
    "\n",
    "start=time()\n",
    "_, prediction_MAP_assignment, _ = asia_model.predict(\n",
    "    test_dataset, \n",
    "    [\"tub\"],\n",
    ")\n",
    "end=time()\n",
    "\n",
    "accuracy = accuracy_score(true_labels.cpu().numpy(), prediction_MAP_assignment[\"tub\"].cpu().numpy())\n",
    "\n",
    "print(f\"time taken for predictions is {end-start}\")\n",
    "print(f\"accuracy is {accuracy}\")"
   ]
  }
 ],
 "metadata": {
  "kernelspec": {
   "display_name": "Python 3",
   "language": "python",
   "name": "python3"
  },
  "language_info": {
   "codemirror_mode": {
    "name": "ipython",
    "version": 3
   },
   "file_extension": ".py",
   "mimetype": "text/x-python",
   "name": "python",
   "nbconvert_exporter": "python",
   "pygments_lexer": "ipython3",
   "version": "3.8.7"
  }
 },
 "nbformat": 4,
 "nbformat_minor": 2
}
